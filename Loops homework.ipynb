{
 "cells": [
  {
   "cell_type": "code",
   "execution_count": 1,
   "metadata": {
    "collapsed": true
   },
   "outputs": [],
   "source": [
    "#Create a baby code that makes the reverse complement of the sequence"
   ]
  },
  {
   "cell_type": "code",
   "execution_count": 1,
   "metadata": {},
   "outputs": [
    {
     "name": "stdout",
     "output_type": "stream",
     "text": [
      "actggaga\n",
      "TCTCCAGT\n"
     ]
    }
   ],
   "source": [
    "a = input(\"\")\n",
    "b = [i.upper() for i in a]\n",
    "d = []\n",
    "for i in b:\n",
    "    if i == \"A\":\n",
    "        d.append(\"T\")\n",
    "    elif i == \"T\":\n",
    "        d.append(\"A\")\n",
    "    elif i == \"G\":\n",
    "        d.append(\"C\")\n",
    "    elif i == \"C\":\n",
    "        d.append(\"G\")\n",
    "    else:\n",
    "        d.append(\"N\")\n",
    "e = d[::-1]        \n",
    "print(''.join(e))"
   ]
  }
 ],
 "metadata": {
  "kernelspec": {
   "display_name": "Python 3",
   "language": "python",
   "name": "python3"
  },
  "language_info": {
   "codemirror_mode": {
    "name": "ipython",
    "version": 3
   },
   "file_extension": ".py",
   "mimetype": "text/x-python",
   "name": "python",
   "nbconvert_exporter": "python",
   "pygments_lexer": "ipython3",
   "version": "3.6.1"
  }
 },
 "nbformat": 4,
 "nbformat_minor": 2
}
